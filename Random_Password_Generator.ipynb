{
  "nbformat": 4,
  "nbformat_minor": 0,
  "metadata": {
    "colab": {
      "name": "Random Password Generator.ipynb",
      "provenance": [],
      "authorship_tag": "ABX9TyP6Cju4hEltOTWJQd/om86k",
      "include_colab_link": true
    },
    "kernelspec": {
      "name": "python3",
      "display_name": "Python 3"
    },
    "language_info": {
      "name": "python"
    }
  },
  "cells": [
    {
      "cell_type": "markdown",
      "metadata": {
        "id": "view-in-github",
        "colab_type": "text"
      },
      "source": [
        "<a href=\"https://colab.research.google.com/github/EstherWanjiru/Assignment-2/blob/master/Random_Password_Generator.ipynb\" target=\"_parent\"><img src=\"https://colab.research.google.com/assets/colab-badge.svg\" alt=\"Open In Colab\"/></a>"
      ]
    },
    {
      "cell_type": "code",
      "metadata": {
        "colab": {
          "base_uri": "https://localhost:8080/"
        },
        "id": "iz6prqTf7TK_",
        "outputId": "ccceecea-9d76-4476-df2b-c5e06bc84b6e"
      },
      "source": [
        "import random\n",
        "\n",
        "\n",
        "uppercase_letters = \"ABCDEFGHIJKLMNOPQRSTUVWXYZ\"\n",
        "lowercase_letters = uppercase_letters.lower()\n",
        "digits = \"0123456789\"\n",
        "symbols = \"(){}[]/,.<>`'\\\\|#* \"\n",
        "\n",
        "upper, lower, nums, syms = True, True, True, True\n",
        "\n",
        "# string containing everything that we are going to use\n",
        "all = \"\"\n",
        "\n",
        "if upper:\n",
        "    all += uppercase_letters\n",
        "\n",
        "if lower:\n",
        "    all += lowercase_letters\n",
        "\n",
        "if nums:\n",
        "    all += digits\n",
        "\n",
        "if syms:\n",
        "    all += symbols\n",
        "\n",
        "length = 8\n",
        "amount = 10\n",
        "\n",
        "for x in range(amount):\n",
        "    password = \"\".join(random.sample(all, length))\n",
        "    print (password)"
      ],
      "execution_count": 1,
      "outputs": [
        {
          "output_type": "stream",
          "text": [
            "{ym8xgST\n",
            "6K58{Rt3\n",
            "Ye>8FIua\n",
            "5[eP,ix]\n",
            ".w#bHDJS\n",
            "E<.nWMFB\n",
            "x'AemZqG\n",
            "XPjhRZgA\n",
            "rZ/|>R51\n",
            "vGEQ}b5g\n"
          ],
          "name": "stdout"
        }
      ]
    }
  ]
}